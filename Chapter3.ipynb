{
 "cells": [
  {
   "cell_type": "markdown",
   "id": "f6c8ab13-8b44-4fb9-b07b-d36e0211d531",
   "metadata": {},
   "source": [
    "## 第三章 基于观测器的残差生成"
   ]
  },
  {
   "cell_type": "markdown",
   "id": "ebdfca9d-2416-4b0b-9987-01538c47ea9d",
   "metadata": {},
   "source": [
    "  一般来说，基于模型的故障诊断包括两个步骤：残差生成和残差评价。残差生成的主要任务是根据系统的数学模型生成能够反映故障影响的残差信号。残差评价的主要任务是通过对残差信号进行分析实现故障诊断。在基于模型的故障诊断研究中，残差生成方法是核心研究内容。本章介绍基于龙伯格观测器的残差生成方法。"
   ]
  },
  {
   "cell_type": "markdown",
   "id": "9ec96033-e3f9-46ae-a067-24f5e2486abe",
   "metadata": {},
   "source": [
    "### 3.1 基于解析冗余的残差生成"
   ]
  },
  {
   "cell_type": "markdown",
   "id": "e887ba1b-a445-400b-a018-b79dd8107e4c",
   "metadata": {},
   "source": [
    "既然基于模型的故障诊断是利用系统的解析模型进行故障诊断，那么一个很自然的想法是能不能直接利用系统的标称模型生成残差进行故障诊断？这种直接利用标称模型生成残差的思想如{numref}`图1`所示。"
   ]
  },
  {
   "cell_type": "markdown",
   "id": "d0799e1a",
   "metadata": {},
   "source": [
    "```{figure} ./image/Fig3-1.jpg\n",
    ":height: 200px\n",
    ":name: 图1\n",
    "\n",
    "直接利用标称模型生成残差\n",
    "```"
   ]
  },
  {
   "cell_type": "markdown",
   "id": "9a60a668-54b9-4f3f-9795-325f27435f75",
   "metadata": {},
   "source": [
    "虽然这看起来是一种简单直观的方法，在有些情况下也是可行的，但是这种方法是有问题的。首先，如果被诊断系统的系统矩阵$A$是不稳定的，则由标称模型得到的残差信号将会发散。其次，即使对于$A$稳定的被诊断系统，利用标称模型的残差生成器的性能完全取决于$A$矩阵特征值的位置。从控制理论的观点来看，直接利用标称模型的残差生成器是开环的，所以存在上述问题。为了使得初值误差的影响逐渐收敛于零，并且设计者可以调节残差生成器的性能，需要在残差生成器中引入反馈，如{numref}`图2`所示。"
   ]
  },
  {
   "cell_type": "markdown",
   "id": "0c472292",
   "metadata": {},
   "source": [
    "```{figure} ./image/Fig3-2.jpg\n",
    ":height: 200px\n",
    ":name: 图2\n",
    "\n",
    "采用反馈结构的残差生成器\n",
    "```"
   ]
  },
  {
   "cell_type": "markdown",
   "id": "84f03ce2-d9a8-4661-9832-7564af57f9bb",
   "metadata": {},
   "source": [
    "### 3.2 基于观测器的连续时间系统的残差生成"
   ]
  },
  {
   "cell_type": "markdown",
   "id": "b4a035e1-d2a5-49c1-be61-3faba70b1189",
   "metadata": {},
   "source": [
    "考虑如下的连续时间系统"
   ]
  },
  {
   "cell_type": "markdown",
   "id": "1f8ced56",
   "metadata": {},
   "source": [
    "$$\n",
    "\\left\\{ \\begin{array}{l}\n",
    "\\dot{x}(t) = Ax(t)+Bu(t)+B_f f(t) \\\\\n",
    "y(t) = Cx(t) +D_f f(t)(t) \n",
    "\\end{array} \\right. \n",
    "$$ (eq3.1)\n",
    "其中$x(t)\\in \\mathbb{R}^{n_x}$是状态向量，$u(t)\\in \\mathbb{R}^{n_u}$是控制输入，$y(t)\\in \\mathbb{R}^{n_y}$是测量输出，$f(t)\\in \\mathbb{R}^{n_f}$表示故障向量。$A$, $B$, $C$, $B_f$和$D_f$是具有适当维度的已知常数矩阵。"
   ]
  },
  {
   "cell_type": "markdown",
   "id": "fc8b0719-4028-4966-aaaa-fc86a5548779",
   "metadata": {},
   "source": [
    "对于式{eq}`eq3.1`中的被诊断系统，其基于龙伯格观测器的残差生成器具有如下形式"
   ]
  },
  {
   "cell_type": "markdown",
   "id": "51612b27",
   "metadata": {},
   "source": [
    "$$\n",
    "\\left\\{ \\begin{array}{l}\n",
    "\\dot{\\hat{x}}(t) = A\\hat{x}(t)+Bu(t)+L(y(t)- C \\hat{x}(t))  \\\\\n",
    "r(t) = y(t) - C\\hat{x}(t)\n",
    "\\end{array} \\right. \n",
    "$$ (eq3.2)\n",
    "其中$\\hat{x}(t)\\in \\mathbb{R}^{n_x}$是状态估计向量，$r(t)\\in \\mathbb{R}^{n_y}$是残差向量，$L \\in \\mathbb{R}^{n_x \\times n_y} $是待设计的观测器增益矩阵。"
   ]
  },
  {
   "cell_type": "markdown",
   "id": "26a72482-59b9-4bd8-9361-f4230ed6d06d",
   "metadata": {},
   "source": [
    "基于观测器的残差生成器设计的基本任务是设计$L$使得在无故障时，残差$r(t)$逐渐收敛于零。\n",
    "\n",
    "为了设计基于观测器的残差生成器，首先要进行误差分析。定义如下的状态估计误差"
   ]
  },
  {
   "cell_type": "markdown",
   "id": "83903b99",
   "metadata": {},
   "source": [
    "$$\n",
    "e(t) = x(t) -\\hat{x}(t) \n",
    "$$ (eq3.3)"
   ]
  },
  {
   "cell_type": "markdown",
   "id": "c3e218a4",
   "metadata": {},
   "source": [
    "根据{eq}`eq3.1`和{eq}`eq3.2`可得"
   ]
  },
  {
   "cell_type": "markdown",
   "id": "12d4ba74",
   "metadata": {},
   "source": [
    "$$\n",
    "\\dot{e}(t) = (A-LC)e(t) +B_f f(t) -L D_f f(t) \n",
    "$$ (eq3.4)"
   ]
  },
  {
   "cell_type": "markdown",
   "id": "79645e8c-4e9b-489f-b893-dcd686339def",
   "metadata": {},
   "source": [
    "我们希望误差方程在无故障时渐近稳定，从而使得残差在无故障时收敛于零。无故障时的误差方程为"
   ]
  },
  {
   "cell_type": "markdown",
   "id": "149ee86a",
   "metadata": {},
   "source": [
    "$$\n",
    "\\dot{e}(t) = (A-LC)e(t) \n",
    "$$ (eq3.5)"
   ]
  },
  {
   "cell_type": "markdown",
   "id": "0d8ebfe4",
   "metadata": {},
   "source": [
    "\n",
    "基于式{eq}`eq3.5`中的误差方程，定义如下的李雅普诺夫函数"
   ]
  },
  {
   "cell_type": "markdown",
   "id": "621fa86c",
   "metadata": {},
   "source": [
    "$$\n",
    "V(t) =  e^T(t) P e(t)\n",
    "$$ (eq3.6)\n",
    "其中$P=P^T\\succ 0$是一个对称正定矩阵。根据李雅普诺夫稳定性理论，如果对于所有的$e(t)\\neq 0$时，都有$\\dot{V}(t)<0$成立，则误差系统{eq}`eq3.5`是渐近稳定的。"
   ]
  },
  {
   "cell_type": "markdown",
   "id": "a7c91cfa-db3a-48fc-a3ec-7b6b58de12bc",
   "metadata": {},
   "source": [
    "由式{eq}`eq3.5`可得"
   ]
  },
  {
   "cell_type": "markdown",
   "id": "e8a67978",
   "metadata": {},
   "source": [
    "$$ \n",
    "\\dot{V}(t) =  e^T(t) ( (A-LC)^T P+P (A-LC)  )e(t) \n",
    "$$ (eq3.7)\n",
    "由此可知，如果存在一个对称正定矩阵$P\\succ 0$使得"
   ]
  },
  {
   "cell_type": "markdown",
   "id": "d5127945",
   "metadata": {},
   "source": [
    "$$\n",
    "(A-LC)^T P+P (A-LC)  \\prec 0 \n",
    "$$ (eq3.8)\n",
    "成立，则误差系统{eq}`eq3.5`是渐近稳定的。也就是说，残差生成器{eq}`eq3.2`的设计条件是找到矩阵$P$和$L$使得如下矩阵不等式成立"
   ]
  },
  {
   "cell_type": "markdown",
   "id": "24689473-2151-4627-b777-2788ec9958ae",
   "metadata": {},
   "source": [
    "$$\n",
    "P \\succ 0 \n",
    "$$ (eq3.9)\n",
    "$$\n",
    "(A-LC)^T P+P (A-LC)  \\prec 0 \n",
    "$$ (eq3.10)"
   ]
  },
  {
   "cell_type": "markdown",
   "id": "2007ab12-90f7-49f5-b527-fc56e3bb5b33",
   "metadata": {},
   "source": [
    "式{eq}`eq3.10`中的设计条件中存在$PL$项，并非标准的线性矩阵不等式，还需要进一步将其转化为便于求解的标准线性矩阵不等式形式。令$L=P^{-1}W$，可将{eq}`eq3.10`转化为"
   ]
  },
  {
   "cell_type": "markdown",
   "id": "8add8d8c",
   "metadata": {},
   "source": [
    "$$\n",
    "A^TP -C^T W^T+P A-WC  \\prec 0 \n",
    "$$ (eq3.11)"
   ]
  },
  {
   "cell_type": "markdown",
   "id": "0eedf740-23e0-4b81-8d70-753a0d9cabca",
   "metadata": {},
   "source": [
    "此时，可以使用线性矩阵不等式工具箱\\cite{Lofberg2004chapter3,Zhang2016chapter3}求解。若{eq}`eq3.9`和{eq}`eq3.11`存在可行解，则可由$L=P^{-1}W$确定观测器的增益矩阵$L$。"
   ]
  },
  {
   "cell_type": "markdown",
   "id": "59f0109d",
   "metadata": {},
   "source": [
    "接下来，以一个简单的数值算例说明基于观测器的残差生成。\n",
    "\n",
    "考虑式{eq}`eq3.1`中的系统，其中参数矩阵为"
   ]
  },
  {
   "cell_type": "markdown",
   "id": "188e09d9",
   "metadata": {},
   "source": [
    "$$\n",
    "A = \\begin{bmatrix}\n",
    "0 & 1 & 0\\\\\n",
    "-1 & -2 & 1 \\\\\n",
    "0 & -1 & -2 \n",
    "\\end{bmatrix},\\,\n",
    "B = \\begin{bmatrix}\n",
    "0 & 0  \\\\\n",
    "0 & -1 \\\\\n",
    "1 & 1\n",
    "\\end{bmatrix},\\,\n",
    "B_f = \\begin{bmatrix}\n",
    "0    \\\\\n",
    "0   \\\\\n",
    "1 \n",
    "\\end{bmatrix},\n",
    "C = \\begin{bmatrix}\n",
    "1 & 0 & 0 \\\\\n",
    "0 & 1 & 0\n",
    "\\end{bmatrix},\\, \n",
    "D_f = \\begin{bmatrix}\n",
    "0 & 0   \\\\\n",
    "0 &   0\n",
    "\\end{bmatrix}\n",
    "$$\n",
    "\n",
    "接下来，介绍在Python中设计基于观测器的残差生成器，并进行仿真的过程。在设计观测器之前，需要首先定义系统的参数："
   ]
  },
  {
   "cell_type": "code",
   "execution_count": 139,
   "id": "18014c19",
   "metadata": {},
   "outputs": [],
   "source": [
    "import numpy as np\n",
    "\n",
    "A = np.array([[0,1,0],\n",
    "              [-1,-2,1],\n",
    "              [0,-1,-2]])\n",
    "B = np.array([[0,0],\n",
    "              [0,-1],\n",
    "              [1,1]])\n",
    "Bf = np.array([[0],\n",
    "              [0],\n",
    "              [1]])\n",
    "C = np.array([[1,0,0],\n",
    "              [0,1,0]])"
   ]
  },
  {
   "cell_type": "markdown",
   "id": "7fef75d7",
   "metadata": {},
   "source": [
    "针对此系统，构造式{eq}`eq3.2`{cite}`1393890,zhang2016robust`中的观测器来生成残差。求解{eq}`eq3.9`和{eq}`eq3.11`中的线性矩阵不等式\n",
    "并由$L=P^{-1}W$求解得观测器的增益矩阵$L$。"
   ]
  },
  {
   "cell_type": "code",
   "execution_count": 140,
   "id": "0daac61a",
   "metadata": {},
   "outputs": [],
   "source": [
    "import cvxpy as cp\n",
    "\n",
    "# 定义矩阵变量P和W\n",
    "P = cp.Variable((3, 3), symmetric=True)\n",
    "W = cp.Variable((3, 2))\n",
    "# 定义需要求解的LMI问题\n",
    "constraints = [P >> 0.001*np.eye(3)]\n",
    "constraints += [(P@A - W@C) + (P@A - W@C).T << -0.001*np.eye(3)]\n",
    "prob = cp.Problem(cp.Minimize(0),constraints)\n",
    "# 求解LMI\n",
    "prob.solve()\n",
    "# 求矩阵L\n",
    "P = P.value\n",
    "W = W.value\n",
    "L = np.linalg.inv(P)@W"
   ]
  },
  {
   "cell_type": "markdown",
   "id": "5befa1fc",
   "metadata": {},
   "source": [
    "利用上述程序可以得到如下的增益矩阵"
   ]
  },
  {
   "cell_type": "markdown",
   "id": "f152d22d",
   "metadata": {},
   "source": [
    "$$\n",
    "L = \\begin{bmatrix}\n",
    "0.5000 &   -0.0597 \\\\\n",
    "-0.0512  &  -1.5040 \\\\\n",
    "0.0413 &   -0.0655\n",
    "\\end{bmatrix}\n",
    "$$\n",
    "然后即可进行数值仿真。"
   ]
  },
  {
   "cell_type": "markdown",
   "id": "1b4329ce",
   "metadata": {},
   "source": [
    "首先，设置仿真时间"
   ]
  },
  {
   "cell_type": "code",
   "execution_count": 141,
   "id": "20fcfc6e",
   "metadata": {},
   "outputs": [],
   "source": [
    "t_max = 20\n",
    "dt = 0.01\n",
    "tspan = np.arange(0.0, t_max, dt) \n",
    "Nk = len(tspan)"
   ]
  },
  {
   "cell_type": "markdown",
   "id": "7b165230",
   "metadata": {},
   "source": [
    "为了便于数据的存储和读取，可以根据仿真时间预设数据存储的数组"
   ]
  },
  {
   "cell_type": "code",
   "execution_count": 142,
   "id": "12295ac9",
   "metadata": {},
   "outputs": [],
   "source": [
    "# 被诊断对象的相关变量\n",
    "x = np.zeros((3,Nk))\n",
    "u = np.zeros((2,Nk))\n",
    "y = np.zeros((2,Nk))\n",
    "# 残差生成器相关变量\n",
    "xhat = np.zeros((3,Nk))\n",
    "r = np.zeros((2,Nk))"
   ]
  },
  {
   "cell_type": "markdown",
   "id": "539438be",
   "metadata": {},
   "source": [
    "然后，可以对相关变量进行初始化"
   ]
  },
  {
   "cell_type": "code",
   "execution_count": 143,
   "id": "8f1da27e",
   "metadata": {},
   "outputs": [],
   "source": [
    "x[:,[0]] = np.array([[0],[0],[0.1]]) \n",
    "y[:,[0]] = C@x[:,[0]]\n",
    "xhat[:,[0]] = np.array([[0],[0],[0]]) \n",
    "r[:,[0]] = y[:,[0]] - C@xhat[:,[0]]"
   ]
  },
  {
   "cell_type": "markdown",
   "id": "47094823",
   "metadata": {},
   "source": [
    "仿真中，被诊断系统的状态初值和观测器的初始估计值为"
   ]
  },
  {
   "cell_type": "markdown",
   "id": "d5f870d9",
   "metadata": {},
   "source": [
    "$$\n",
    "x(0) = \\begin{bmatrix}\n",
    "0\\\\\n",
    "0\\\\\n",
    "0.1\n",
    "\\end{bmatrix} ,\\, \\,\n",
    "\\hat{x}(0) = \\begin{bmatrix}\n",
    "0\\\\\n",
    "0 \\\\\n",
    "0 \n",
    "\\end{bmatrix} \n",
    "$$"
   ]
  },
  {
   "cell_type": "markdown",
   "id": "be51d471",
   "metadata": {},
   "source": [
    "接下来可以进行数值仿真。首先考虑无故障时的残差生成。"
   ]
  },
  {
   "cell_type": "code",
   "execution_count": 144,
   "id": "34832b3c",
   "metadata": {},
   "outputs": [],
   "source": [
    "for k in range(1,Nk):\n",
    "    dx = A@x[:,[k-1]] + B@u[:,[k-1]]\n",
    "    x[:,[k]] = x[:,[k-1]] + dx*dt\n",
    "    y[:,[k]] = C@x[:,[k]]\n",
    "    dxhat = A@xhat[:,[k-1]] + L@(y[:,[k-1]] - C@xhat[:,[k-1]])\n",
    "    xhat[:,[k]] = xhat[:,[k-1]] + dxhat*dt\n",
    "    r[:,[k]] = y[:,[k]] - C@xhat[:,[k]]"
   ]
  },
  {
   "cell_type": "markdown",
   "id": "0ea8bb3c",
   "metadata": {},
   "source": [
    "在仿真循环结束后，可以通过如下指令可以画出残差信号"
   ]
  },
  {
   "cell_type": "code",
   "execution_count": 145,
   "id": "82ea1f60",
   "metadata": {},
   "outputs": [
    {
     "data": {
      "image/png": "[encoded data removed]",
      "text/plain": [
       "<Figure size 640x480 with 2 Axes>"
      ]
     },
     "metadata": {},
     "output_type": "display_data"
    }
   ],
   "source": [
    "import matplotlib.pyplot as plt\n",
    "\n",
    "plt.figure()\n",
    "plt.subplot(211)\n",
    "plt.plot(tspan,r[[0],:].T,'b', linewidth=2)\n",
    "plt.ylim([-0.1,0.1])\n",
    "plt.xlim([0,20])\n",
    "plt.ylabel('$r_1(t)$', fontsize=15)\n",
    "plt.grid()\n",
    "plt.subplot(212)\n",
    "plt.plot(tspan,r[[1],:].T,'b', linewidth=2)\n",
    "plt.ylim([-0.1,0.1])\n",
    "plt.xlim([0,20])\n",
    "plt.xlabel('t', fontsize=15)\n",
    "plt.ylabel('$r_2(t)$', fontsize=15)\n",
    "plt.grid()\n",
    "plt.show()"
   ]
  },
  {
   "cell_type": "markdown",
   "id": "83f03c9c",
   "metadata": {},
   "source": [
    "在无故障的情况下，所得到的残差如上图所示。可以看出，最开始残差受到初始估计误差的影响，但最终收敛于零。"
   ]
  },
  {
   "cell_type": "markdown",
   "id": "0e95f3fb",
   "metadata": {},
   "source": [
    "接下来，进行有故障情况下的数值仿真。考虑如下形式的故障"
   ]
  },
  {
   "cell_type": "markdown",
   "id": "c9102102",
   "metadata": {},
   "source": [
    "$$\n",
    "f(t) =\\left\\{ \\begin{array}{ll}\n",
    "0  \\, &   \\, t< 5 \\\\\n",
    "1  \\, &   \\, t\\geq 5\n",
    "\\end{array} \\right.\n",
    "$$"
   ]
  },
  {
   "cell_type": "markdown",
   "id": "8a6dd839",
   "metadata": {},
   "source": [
    "在仿真时间和仿真初始条件不变的情况下，采用如下的仿真代码"
   ]
  },
  {
   "cell_type": "code",
   "execution_count": 146,
   "id": "e31f45a2",
   "metadata": {},
   "outputs": [
    {
     "data": {
      "image/png": "[encoded data removed]",
      "text/plain": [
       "<Figure size 640x480 with 2 Axes>"
      ]
     },
     "metadata": {},
     "output_type": "display_data"
    }
   ],
   "source": [
    "for k in range(1,Nk):\n",
    "    if dt*k > 5:\n",
    "        f = 1\n",
    "    else:\n",
    "        f = 0\n",
    "    dx = A@x[:,[k-1]] + B@u[:,[k-1]] + Bf*f\n",
    "    x[:,[k]] = x[:,[k-1]] + dx*dt\n",
    "    y[:,[k]] = C@x[:,[k]]\n",
    "    dxhat = A@xhat[:,[k-1]] + L@(y[:,[k-1]] - C@xhat[:,[k-1]])\n",
    "    xhat[:,[k]] = xhat[:,[k-1]] + dxhat*dt\n",
    "    r[:,[k]] = y[:,[k]] - C@xhat[:,[k]]\n",
    "\n",
    "plt.figure()\n",
    "plt.subplot(211)\n",
    "plt.plot(tspan,r[[0],:].T,'b', linewidth=2)\n",
    "plt.xlim([0,20])\n",
    "plt.ylabel('$r_1(t)$', fontsize=15)\n",
    "plt.grid()\n",
    "plt.subplot(212)\n",
    "plt.plot(tspan,r[[1],:].T,'b', linewidth=2)\n",
    "plt.xlim([0,20])\n",
    "plt.xlabel('t', fontsize=15)\n",
    "plt.ylabel('$r_2(t)$', fontsize=15)\n",
    "plt.grid()"
   ]
  },
  {
   "cell_type": "markdown",
   "id": "1b62f257",
   "metadata": {},
   "source": [
    "可以得到上图中的残差信号。可以看出，无故障时的残差会渐近收敛于零，而发生故障后会产生比较明显的变化，能够反映出故障的影响。"
   ]
  },
  {
   "cell_type": "markdown",
   "id": "64ca9da5",
   "metadata": {},
   "source": [
    "```{bibliography}\n",
    ":style: unsrt\n",
    "```"
   ]
  }
 ],
 "metadata": {
  "kernelspec": {
   "display_name": "Python 3",
   "language": "python",
   "name": "python3"
  },
  "language_info": {
   "codemirror_mode": {
    "name": "ipython",
    "version": 3
   },
   "file_extension": ".py",
   "mimetype": "text/x-python",
   "name": "python",
   "nbconvert_exporter": "python",
   "pygments_lexer": "ipython3",
   "version": "3.8.10"
  }
 },
 "nbformat": 4,
 "nbformat_minor": 5
}
